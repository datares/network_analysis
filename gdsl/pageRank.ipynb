{
 "cells": [
  {
   "cell_type": "code",
   "execution_count": 1,
   "metadata": {},
   "outputs": [],
   "source": [
    "import pandas as pd\n",
    "import numpy as np\n",
    "import seaborn as sns\n",
    "\n",
    "from tqdm import tqdm\n",
    "from neo4j import GraphDatabase\n",
    "import matplotlib.pyplot as plt"
   ]
  },
  {
   "cell_type": "code",
   "execution_count": 2,
   "metadata": {},
   "outputs": [
    {
     "name": "stderr",
     "output_type": "stream",
     "text": [
      "C:\\Users\\irsya\\AppData\\Local\\Temp/ipykernel_4448/1292716654.py:9: ExperimentalWarning: The configuration may change in the future.\n",
      "  driver.verify_connectivity()\n"
     ]
    },
    {
     "data": {
      "text/plain": [
       "'Neo4j/4.4.4'"
      ]
     },
     "execution_count": 2,
     "metadata": {},
     "output_type": "execute_result"
    }
   ],
   "source": [
    "# Seen from :server status\n",
    "uri = \"bolt://localhost:7687\"\n",
    "\n",
    "# default user for graph database is neo4j\n",
    "# auth = (\"neo4j\", \"password\")\n",
    "auth = (\"neo4j\",\"quickstart\")\n",
    "\n",
    "driver = GraphDatabase.driver(uri = uri, auth = auth)\n",
    "driver.verify_connectivity()"
   ]
  },
  {
   "cell_type": "markdown",
   "metadata": {},
   "source": [
    "#### Calculating PageRank on Zach's Karate Club (<code> \"../neo4j_quickstart/adv_importing.ipynb\" </code>)"
   ]
  },
  {
   "cell_type": "markdown",
   "metadata": {},
   "source": [
    "To run a graph algorithm, we first need to specify a portion of the graph we are going to use. In this case, let us ue the whole graph.\n",
    "\n",
    "@cypher:\n",
    "\n",
    "    CALL gds.graph.project.(\n",
    "    'ilovekarate',\n",
    "    [\"Person\"],\n",
    "    {\n",
    "        WEIGHT: {orientation: \"NATURAL\"}\n",
    "    }\n",
    "    )\n",
    "\n",
    "Documentation: \n",
    "\n",
    "    CALL gds.graph.project.cypher(\n",
    "        graphName: String,\n",
    "        nodesIncluded: [str]\n",
    "        relationshipsIncluded: {\n",
    "                                relationship: {orientation: \"Natural\" or \"UNDIRECTED\"}\n",
    "                                relationship: {orientation: \"Natural\" or \"UNDIRECTED\"}\n",
    "                                relationship: {orientation: \"Natural\" or \"UNDIRECTED\"}\n",
    "                               }\n",
    "                                "
   ]
  },
  {
   "cell_type": "code",
   "execution_count": 45,
   "metadata": {},
   "outputs": [],
   "source": [
    "class pagerank:\n",
    "    def __init__(self, driver) -> None:\n",
    "        \"\"\"\n",
    "        Args:\n",
    "            driver is GraphDatabase.driver\n",
    "        \"\"\"\n",
    "        self.driver = driver\n",
    "\n",
    "    def close(self) -> None:\n",
    "        self.driver.close()\n",
    "\n",
    "    #estimation for memory\n",
    "    @classmethod\n",
    "    def write(cls, tx) -> any:\n",
    "        \"\"\"\n",
    "        @param cls is the class\n",
    "        @param tx is the transaction\n",
    "        @returns the data for the memory\n",
    "        \"\"\"\n",
    "        query = (\"\"\"\n",
    "                    CALL gds.pageRank.write('ilovekarate', {\n",
    "                    maxIterations: 20,\n",
    "                    dampingFactor: 0.85,\n",
    "                    writeProperty: 'pagerank'\n",
    "                    })\n",
    "                    YIELD nodePropertiesWritten, ranIterations\n",
    "                \"\"\")\n",
    "        result = tx.run(query)\n",
    "        #returns dataframe\n",
    "        return result.data()\n",
    "\n",
    "    @classmethod\n",
    "    def pagerank(cls, tx) -> any:\n",
    "        \"\"\"\n",
    "        @param cls is the class\n",
    "        @param tx is the transaction\n",
    "        @return result.data() is the data of the pagerank\n",
    "        \"\"\"\n",
    "        query = (\"\"\"\n",
    "                    Call gds.pageRank.stream('ilovekarate') \n",
    "                    YIELD nodeId, score RETURN gds.util.asNode(nodeId).id AS id, gds.util.asNode(nodeId).club AS club, score AS pagerank\n",
    "                    ORDER BY score DESC, id ASC\n",
    "                \"\"\")\n",
    "        result = tx.run(query)\n",
    "        #return a dataframe\n",
    "        return result.data() \n",
    "\n",
    "\n",
    "    def write_pagerank(self) -> any:\n",
    "        \"\"\"\n",
    "        @param self\n",
    "        @return result is the result of the memory estimation\n",
    "        \"\"\"\n",
    "        result = self.driver.session().write_transaction(self.write)\n",
    "        return pd.DataFrame(result)\n",
    "\n",
    "\n",
    "    def run_pagerank(self) -> any:\n",
    "        \"\"\"\n",
    "        @param self\n",
    "        @return result is the dataframe from the pagerank\n",
    "        \"\"\"\n",
    "        result = self.driver.session().write_transaction(self.pagerank)\n",
    "        return pd.DataFrame(result)"
   ]
  },
  {
   "cell_type": "code",
   "execution_count": 46,
   "metadata": {},
   "outputs": [],
   "source": [
    "hello = pagerank(driver)"
   ]
  },
  {
   "cell_type": "code",
   "execution_count": 47,
   "metadata": {},
   "outputs": [
    {
     "data": {
      "text/html": [
       "<div>\n",
       "<style scoped>\n",
       "    .dataframe tbody tr th:only-of-type {\n",
       "        vertical-align: middle;\n",
       "    }\n",
       "\n",
       "    .dataframe tbody tr th {\n",
       "        vertical-align: top;\n",
       "    }\n",
       "\n",
       "    .dataframe thead th {\n",
       "        text-align: right;\n",
       "    }\n",
       "</style>\n",
       "<table border=\"1\" class=\"dataframe\">\n",
       "  <thead>\n",
       "    <tr style=\"text-align: right;\">\n",
       "      <th></th>\n",
       "      <th>id</th>\n",
       "      <th>club</th>\n",
       "      <th>pagerank</th>\n",
       "    </tr>\n",
       "  </thead>\n",
       "  <tbody>\n",
       "    <tr>\n",
       "      <th>0</th>\n",
       "      <td>33</td>\n",
       "      <td>Officer</td>\n",
       "      <td>3.287865</td>\n",
       "    </tr>\n",
       "    <tr>\n",
       "      <th>1</th>\n",
       "      <td>0</td>\n",
       "      <td>Mr. Hi</td>\n",
       "      <td>3.162529</td>\n",
       "    </tr>\n",
       "    <tr>\n",
       "      <th>2</th>\n",
       "      <td>32</td>\n",
       "      <td>Officer</td>\n",
       "      <td>2.336371</td>\n",
       "    </tr>\n",
       "    <tr>\n",
       "      <th>3</th>\n",
       "      <td>2</td>\n",
       "      <td>Mr. Hi</td>\n",
       "      <td>1.856204</td>\n",
       "    </tr>\n",
       "    <tr>\n",
       "      <th>4</th>\n",
       "      <td>1</td>\n",
       "      <td>Mr. Hi</td>\n",
       "      <td>1.721732</td>\n",
       "    </tr>\n",
       "  </tbody>\n",
       "</table>\n",
       "</div>"
      ],
      "text/plain": [
       "   id     club  pagerank\n",
       "0  33  Officer  3.287865\n",
       "1   0   Mr. Hi  3.162529\n",
       "2  32  Officer  2.336371\n",
       "3   2   Mr. Hi  1.856204\n",
       "4   1   Mr. Hi  1.721732"
      ]
     },
     "execution_count": 47,
     "metadata": {},
     "output_type": "execute_result"
    }
   ],
   "source": [
    "data = hello.run_pagerank()\n",
    "data.head()"
   ]
  },
  {
   "cell_type": "code",
   "execution_count": 48,
   "metadata": {},
   "outputs": [
    {
     "data": {
      "image/png": "[encoded data removed]",
      "text/plain": [
       "<Figure size 504x432 with 1 Axes>"
      ]
     },
     "metadata": {},
     "output_type": "display_data"
    }
   ],
   "source": [
    "sns.set(font_scale = 1.5)\n",
    "sns.set_theme()\n",
    "\n",
    "def barplot(x, y, data):\n",
    "    \"\"\"\n",
    "    :param x: is the x axis\n",
    "    :param y: is the y axis\n",
    "    :param data: is the data used\n",
    "    \"\"\"\n",
    "    sns.set_theme(style=\"ticks\")\n",
    "\n",
    "    # Initialize the figure with a logarithmic x axis\n",
    "    f, ax = plt.subplots(figsize=(7, 6))\n",
    "    ax.set_xscale(\"linear\")\n",
    "\n",
    "    # Plot the orbital period with horizontal boxes\n",
    "    sns.boxplot(x=x, y=y, data=data,\n",
    "        whis=[0, 100], width=0.3, palette=\"hls\")\n",
    "\n",
    "    # Add in points to show each observation\n",
    "    sns.stripplot(x=x, y=y, data=data,\n",
    "                size=5, color=\".3\", linewidth=0)\n",
    "\n",
    "    # Tweak the visual presentation\n",
    "    ax.xaxis.grid(True)\n",
    "    ax.set(ylabel=\"\")\n",
    "    sns.despine(trim=False, left=True)\n",
    "\n",
    "    plt.show()\n",
    "\n",
    "barplot(\"pagerank\", \"club\", data)"
   ]
  },
  {
   "cell_type": "markdown",
   "metadata": {},
   "source": [
    "This can also be seen in Neo4j Bloom as well!"
   ]
  },
  {
   "cell_type": "code",
   "execution_count": 49,
   "metadata": {},
   "outputs": [
    {
     "data": {
      "text/html": [
       "<div>\n",
       "<style scoped>\n",
       "    .dataframe tbody tr th:only-of-type {\n",
       "        vertical-align: middle;\n",
       "    }\n",
       "\n",
       "    .dataframe tbody tr th {\n",
       "        vertical-align: top;\n",
       "    }\n",
       "\n",
       "    .dataframe thead th {\n",
       "        text-align: right;\n",
       "    }\n",
       "</style>\n",
       "<table border=\"1\" class=\"dataframe\">\n",
       "  <thead>\n",
       "    <tr style=\"text-align: right;\">\n",
       "      <th></th>\n",
       "      <th>nodePropertiesWritten</th>\n",
       "      <th>ranIterations</th>\n",
       "    </tr>\n",
       "  </thead>\n",
       "  <tbody>\n",
       "    <tr>\n",
       "      <th>0</th>\n",
       "      <td>34</td>\n",
       "      <td>20</td>\n",
       "    </tr>\n",
       "  </tbody>\n",
       "</table>\n",
       "</div>"
      ],
      "text/plain": [
       "   nodePropertiesWritten  ranIterations\n",
       "0                     34             20"
      ]
     },
     "execution_count": 49,
     "metadata": {},
     "output_type": "execute_result"
    }
   ],
   "source": [
    "hello.write_pagerank()"
   ]
  },
  {
   "cell_type": "markdown",
   "metadata": {},
   "source": [
    "(See in Neo4j Bloom)"
   ]
  }
 ],
 "metadata": {
  "interpreter": {
   "hash": "da9952b49cbe8d96f4cd94137675a40eefb933987d5b5eb67fec8d17888ef93b"
  },
  "kernelspec": {
   "display_name": "Python 3.8.3 ('base')",
   "language": "python",
   "name": "python3"
  },
  "language_info": {
   "codemirror_mode": {
    "name": "ipython",
    "version": 3
   },
   "file_extension": ".py",
   "mimetype": "text/x-python",
   "name": "python",
   "nbconvert_exporter": "python",
   "pygments_lexer": "ipython3",
   "version": "3.8.3"
  },
  "orig_nbformat": 4
 },
 "nbformat": 4,
 "nbformat_minor": 2
}
