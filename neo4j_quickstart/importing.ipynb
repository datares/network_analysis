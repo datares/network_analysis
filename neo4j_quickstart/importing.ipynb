{
 "cells": [
  {
   "cell_type": "markdown",
   "metadata": {},
   "source": [
    "Irsyad Adam\\\n",
    "04/14/2022"
   ]
  },
  {
   "cell_type": "code",
   "execution_count": 5,
   "metadata": {},
   "outputs": [],
   "source": [
    "#pip install neo4j\n",
    "from neo4j import GraphDatabase\n",
    "import pandas as pd\n",
    "\n",
    "from tqdm import tqdm"
   ]
  },
  {
   "cell_type": "code",
   "execution_count": 4,
   "metadata": {},
   "outputs": [
    {
     "data": {
      "text/html": [
       "<div>\n",
       "<style scoped>\n",
       "    .dataframe tbody tr th:only-of-type {\n",
       "        vertical-align: middle;\n",
       "    }\n",
       "\n",
       "    .dataframe tbody tr th {\n",
       "        vertical-align: top;\n",
       "    }\n",
       "\n",
       "    .dataframe thead th {\n",
       "        text-align: right;\n",
       "    }\n",
       "</style>\n",
       "<table border=\"1\" class=\"dataframe\">\n",
       "  <thead>\n",
       "    <tr style=\"text-align: right;\">\n",
       "      <th></th>\n",
       "      <th>name</th>\n",
       "      <th>relationship</th>\n",
       "      <th>object</th>\n",
       "    </tr>\n",
       "  </thead>\n",
       "  <tbody>\n",
       "    <tr>\n",
       "      <th>0</th>\n",
       "      <td>Irsyad</td>\n",
       "      <td>drinks</td>\n",
       "      <td>water</td>\n",
       "    </tr>\n",
       "    <tr>\n",
       "      <th>1</th>\n",
       "      <td>Adam</td>\n",
       "      <td>likes</td>\n",
       "      <td>water</td>\n",
       "    </tr>\n",
       "    <tr>\n",
       "      <th>2</th>\n",
       "      <td>Irsyad</td>\n",
       "      <td>eats</td>\n",
       "      <td>pizza</td>\n",
       "    </tr>\n",
       "  </tbody>\n",
       "</table>\n",
       "</div>"
      ],
      "text/plain": [
       "     name relationship object\n",
       "0  Irsyad       drinks  water\n",
       "1    Adam        likes  water\n",
       "2  Irsyad         eats  pizza"
      ]
     },
     "execution_count": 4,
     "metadata": {},
     "output_type": "execute_result"
    }
   ],
   "source": [
    "nodes = {\n",
    "        \"name\": [\"Irsyad\", \"Adam\", \"Irsyad\"], \n",
    "        \"relationship\": [\"drinks\", \"likes\", \"eats\"], \n",
    "        \"object\": [\"water\", \"water\", \"pizza\"]\n",
    "        }\n",
    "\n",
    "df = pd.DataFrame(nodes)\n",
    "df[0:3]"
   ]
  },
  {
   "cell_type": "markdown",
   "metadata": {},
   "source": [
    "Link to the Neo4j Server"
   ]
  },
  {
   "cell_type": "code",
   "execution_count": null,
   "metadata": {},
   "outputs": [],
   "source": [
    "driver = GraphDatabase.driver(uri = \"bolt://localhost:7687\",\\\n",
    "                              auth = (\"neo4j\",\"heart\"))"
   ]
  },
  {
   "cell_type": "markdown",
   "metadata": {},
   "source": [
    "Create Constraints for Uniqueness"
   ]
  },
  {
   "cell_type": "code",
   "execution_count": null,
   "metadata": {},
   "outputs": [],
   "source": [
    "name_constraint = \"CREATE CONSTRAINT ON (p:Person) ASSERT m.name IS UNIQUE\"\n",
    "object_constraint = \"CREATE CONSTRAINT ON (o:object) ASSERT o.name IS UNIQUE\"\n",
    "\n",
    "with driver.session() as session:\n",
    "    info = session.run(name_constraint)\n",
    "    info = session.run(object_constraint)"
   ]
  },
  {
   "cell_type": "markdown",
   "metadata": {},
   "source": [
    "Import Nodes"
   ]
  },
  {
   "cell_type": "code",
   "execution_count": null,
   "metadata": {},
   "outputs": [],
   "source": [
    "def create_nodes(tx, name):\n",
    "    query = \"MERGE (p:Person{name: $name})\"\n",
    "    tx.run(query, name = name)\n",
    "\n",
    "with driver.session() as session:\n",
    "    for uid, name in tqdm(df[\"name\"], desc=\"Importing Nodes\"):\n",
    "        session.write_transaction(create_nodes, name)\n",
    "\n",
    "print(\"Success\")"
   ]
  },
  {
   "cell_type": "code",
   "execution_count": null,
   "metadata": {},
   "outputs": [],
   "source": [
    "def create_o_nodes(tx, name):\n",
    "    query = \"MERGE (p:Person{name: $name})\"\n",
    "    tx.run(query, name = name)\n",
    "\n",
    "with driver.session() as session:\n",
    "    for uid, name in tqdm(df[\"object\"], desc=\"Importing object\"):\n",
    "        session.write_transaction(create_o_nodes, name)\n",
    "\n",
    "print(\"Success\")"
   ]
  },
  {
   "cell_type": "code",
   "execution_count": null,
   "metadata": {},
   "outputs": [],
   "source": [
    "def create_relationship(tx, name, object, relationship):\n",
    "    \"\"\"\n",
    "    :param name:\n",
    "    :param object:\n",
    "    :param relationship:\n",
    "    \"\"\"\n",
    "    query = \"\"\"\n",
    "            MATCH (p:Person{name: $name})\n",
    "            MATCH (o:object{name: $o_name})\n",
    "            MERGE (p)-[{r: $relationship}]-(o)\n",
    "            \"\"\"\n",
    "    tx.run(query, name = name, o_name = object, relationship = relationship)\n",
    "\n",
    "with driver.session() as session:\n",
    "    for name, o_name, rel in tqdm(zip(df[\"name\"], df[\"object\"], df[\"relationship\"]), desc=\"Creating Relationships\"):\n",
    "        session.write_transaction(create_relationship, name, o_name, rel)\n",
    "    \n",
    "print(\"success\")"
   ]
  }
 ],
 "metadata": {
  "interpreter": {
   "hash": "da9952b49cbe8d96f4cd94137675a40eefb933987d5b5eb67fec8d17888ef93b"
  },
  "kernelspec": {
   "display_name": "Python 3.8.3 ('base')",
   "language": "python",
   "name": "python3"
  },
  "language_info": {
   "codemirror_mode": {
    "name": "ipython",
    "version": 3
   },
   "file_extension": ".py",
   "mimetype": "text/x-python",
   "name": "python",
   "nbconvert_exporter": "python",
   "pygments_lexer": "ipython3",
   "version": "3.8.3"
  },
  "orig_nbformat": 4
 },
 "nbformat": 4,
 "nbformat_minor": 2
}
